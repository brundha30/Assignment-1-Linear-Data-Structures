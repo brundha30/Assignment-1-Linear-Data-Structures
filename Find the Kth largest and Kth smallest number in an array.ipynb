{
 "cells": [
  {
   "cell_type": "code",
   "execution_count": 1,
   "metadata": {},
   "outputs": [
    {
     "name": "stdout",
     "output_type": "stream",
     "text": [
      "Kth largest number: 7\n",
      "Kth smallest number: 3\n"
     ]
    }
   ],
   "source": [
    "def find_kth_largest_smallest(arr, k):\n",
    "    sorted_arr = sorted(arr)\n",
    "    kth_largest = sorted_arr[-k]\n",
    "    kth_smallest = sorted_arr[k-1]\n",
    "    return kth_largest, kth_smallest\n",
    "\n",
    "arr = [9, 4, 7, 1, 5, 2, 8, 3, 6]\n",
    "k = 3\n",
    "\n",
    "kth_largest, kth_smallest = find_kth_largest_smallest(arr, k)\n",
    "print(f\"Kth largest number: {kth_largest}\")\n",
    "print(f\"Kth smallest number: {kth_smallest}\")\n"
   ]
  },
  {
   "cell_type": "code",
   "execution_count": null,
   "metadata": {},
   "outputs": [],
   "source": []
  }
 ],
 "metadata": {
  "kernelspec": {
   "display_name": "Python 3",
   "language": "python",
   "name": "python3"
  },
  "language_info": {
   "codemirror_mode": {
    "name": "ipython",
    "version": 3
   },
   "file_extension": ".py",
   "mimetype": "text/x-python",
   "name": "python",
   "nbconvert_exporter": "python",
   "pygments_lexer": "ipython3",
   "version": "3.7.6"
  }
 },
 "nbformat": 4,
 "nbformat_minor": 4
}
