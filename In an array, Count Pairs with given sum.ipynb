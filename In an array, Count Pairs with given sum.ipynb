{
 "cells": [
  {
   "cell_type": "code",
   "execution_count": 1,
   "metadata": {},
   "outputs": [
    {
     "name": "stdout",
     "output_type": "stream",
     "text": [
      "Number of pairs with sum 6: 3\n"
     ]
    }
   ],
   "source": [
    "def count_pairs_with_sum(arr, target_sum):\n",
    "    count = 0\n",
    "    num_dict = {}\n",
    "\n",
    "    for num in arr:\n",
    "        complement = target_sum - num\n",
    "\n",
    "        if complement in num_dict:\n",
    "            count += num_dict[complement]\n",
    "\n",
    "        if num in num_dict:\n",
    "            num_dict[num] += 1\n",
    "        else:\n",
    "            num_dict[num] = 1\n",
    "\n",
    "    return count\n",
    "\n",
    "arr = [1, 5, 7, -1, 5]\n",
    "target_sum = 6\n",
    "\n",
    "pair_count = count_pairs_with_sum(arr, target_sum)\n",
    "print(f\"Number of pairs with sum {target_sum}: {pair_count}\")\n"
   ]
  },
  {
   "cell_type": "code",
   "execution_count": null,
   "metadata": {},
   "outputs": [],
   "source": []
  }
 ],
 "metadata": {
  "kernelspec": {
   "display_name": "Python 3",
   "language": "python",
   "name": "python3"
  },
  "language_info": {
   "codemirror_mode": {
    "name": "ipython",
    "version": 3
   },
   "file_extension": ".py",
   "mimetype": "text/x-python",
   "name": "python",
   "nbconvert_exporter": "python",
   "pygments_lexer": "ipython3",
   "version": "3.7.6"
  }
 },
 "nbformat": 4,
 "nbformat_minor": 4
}
