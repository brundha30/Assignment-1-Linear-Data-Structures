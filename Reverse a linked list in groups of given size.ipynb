{
 "cells": [
  {
   "cell_type": "code",
   "execution_count": 1,
   "metadata": {},
   "outputs": [
    {
     "name": "stdout",
     "output_type": "stream",
     "text": [
      "Original Linked List:\n",
      "1 -> 2 -> 3 -> 4 -> 5 -> 6 -> 7 -> 8 -> None\n",
      "Modified Linked List:\n",
      "3 -> 2 -> 1 -> 6 -> 5 -> 4 -> 8 -> 7 -> None\n"
     ]
    }
   ],
   "source": [
    "class Node:\n",
    "    def __init__(self, data=None):\n",
    "        self.data = data\n",
    "        self.next = None\n",
    "\n",
    "\n",
    "def reverse_in_groups(head, k):\n",
    "    if not head or k <= 1:\n",
    "        return head\n",
    "\n",
    "    current = head\n",
    "    prev = None\n",
    "    count = 0\n",
    "\n",
    "    while current and count < k:\n",
    "        next_node = current.next\n",
    "        current.next = prev\n",
    "        prev = current\n",
    "        current = next_node\n",
    "        count += 1\n",
    "    if current:\n",
    "        head.next = reverse_in_groups(current, k)\n",
    "\n",
    "    return prev\n",
    "\n",
    "\n",
    "def print_linked_list(head):\n",
    "    current = head\n",
    "    while current:\n",
    "        print(current.data, end=\" -> \")\n",
    "        current = current.next\n",
    "    print(\"None\")\n",
    "\n",
    "head = Node(1)\n",
    "head.next = Node(2)\n",
    "head.next.next = Node(3)\n",
    "head.next.next.next = Node(4)\n",
    "head.next.next.next.next = Node(5)\n",
    "head.next.next.next.next.next = Node(6)\n",
    "head.next.next.next.next.next.next = Node(7)\n",
    "head.next.next.next.next.next.next.next = Node(8)\n",
    "\n",
    "print(\"Original Linked List:\")\n",
    "print_linked_list(head)\n",
    "\n",
    "k = 3  \n",
    "\n",
    "head = reverse_in_groups(head, k)\n",
    "\n",
    "print(\"Modified Linked List:\")\n",
    "print_linked_list(head)\n"
   ]
  },
  {
   "cell_type": "code",
   "execution_count": null,
   "metadata": {},
   "outputs": [],
   "source": []
  }
 ],
 "metadata": {
  "kernelspec": {
   "display_name": "Python 3",
   "language": "python",
   "name": "python3"
  },
  "language_info": {
   "codemirror_mode": {
    "name": "ipython",
    "version": 3
   },
   "file_extension": ".py",
   "mimetype": "text/x-python",
   "name": "python",
   "nbconvert_exporter": "python",
   "pygments_lexer": "ipython3",
   "version": "3.7.6"
  }
 },
 "nbformat": 4,
 "nbformat_minor": 4
}
