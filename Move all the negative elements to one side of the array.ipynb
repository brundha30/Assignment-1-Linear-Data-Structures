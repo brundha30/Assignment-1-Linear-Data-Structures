{
 "cells": [
  {
   "cell_type": "code",
   "execution_count": 1,
   "metadata": {},
   "outputs": [
    {
     "name": "stdout",
     "output_type": "stream",
     "text": [
      "Array with negative elements moved to one side: [-3, -5, -1, -2, -7, 0, 4, 6, 2]\n"
     ]
    }
   ],
   "source": [
    "def move_negative_elements(arr):\n",
    "    n = len(arr)\n",
    "    neg_idx = 0\n",
    "\n",
    "    for i in range(n):\n",
    "        if arr[i] < 0:\n",
    "            arr[i], arr[neg_idx] = arr[neg_idx], arr[i]\n",
    "            neg_idx += 1\n",
    "\n",
    "    return arr\n",
    "\n",
    "arr = [4, -3, 2, -5, -1, 0, -2, 6, -7]\n",
    "result = move_negative_elements(arr)\n",
    "print(\"Array with negative elements moved to one side:\", result)\n"
   ]
  },
  {
   "cell_type": "code",
   "execution_count": null,
   "metadata": {},
   "outputs": [],
   "source": []
  }
 ],
 "metadata": {
  "kernelspec": {
   "display_name": "Python 3",
   "language": "python",
   "name": "python3"
  },
  "language_info": {
   "codemirror_mode": {
    "name": "ipython",
    "version": 3
   },
   "file_extension": ".py",
   "mimetype": "text/x-python",
   "name": "python",
   "nbconvert_exporter": "python",
   "pygments_lexer": "ipython3",
   "version": "3.7.6"
  }
 },
 "nbformat": 4,
 "nbformat_minor": 4
}
