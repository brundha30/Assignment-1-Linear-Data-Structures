{
 "cells": [
  {
   "cell_type": "code",
   "execution_count": 1,
   "metadata": {},
   "outputs": [
    {
     "name": "stdout",
     "output_type": "stream",
     "text": [
      "Original Linked List:\n",
      "3 -> 2 -> -1 -> 1 -> -2 -> 4 -> None\n",
      "Modified Linked List:\n",
      "3 -> 4 -> None\n"
     ]
    }
   ],
   "source": [
    "class Node:\n",
    "    def __init__(self, data=None):\n",
    "        self.data = data\n",
    "        self.next = None\n",
    "\n",
    "\n",
    "def delete_zero_sum_nodes(head):\n",
    "    if not head:\n",
    "        return head\n",
    "\n",
    "    dummy = Node(0)\n",
    "    dummy.next = head\n",
    "    current = dummy\n",
    "\n",
    "    running_sum = 0\n",
    "    sum_dict = {}\n",
    "\n",
    "    while current:\n",
    "        running_sum += current.data\n",
    "        if running_sum in sum_dict:\n",
    "            prev = sum_dict[running_sum]\n",
    "            prev.next = current.next\n",
    "        else:\n",
    "            sum_dict[running_sum] = current\n",
    "        current = current.next\n",
    "\n",
    "    return dummy.next\n",
    "\n",
    "head = Node(3)\n",
    "head.next = Node(2)\n",
    "head.next.next = Node(-1)\n",
    "head.next.next.next = Node(1)\n",
    "head.next.next.next.next = Node(-2)\n",
    "head.next.next.next.next.next = Node(4)\n",
    "\n",
    "print(\"Original Linked List:\")\n",
    "current = head\n",
    "while current:\n",
    "    print(current.data, end=\" -> \")\n",
    "    current = current.next\n",
    "print(\"None\")\n",
    "\n",
    "head = delete_zero_sum_nodes(head)\n",
    "\n",
    "print(\"Modified Linked List:\")\n",
    "current = head\n",
    "while current:\n",
    "    print(current.data, end=\" -> \")\n",
    "    current = current.next\n",
    "print(\"None\")\n"
   ]
  },
  {
   "cell_type": "code",
   "execution_count": null,
   "metadata": {},
   "outputs": [],
   "source": []
  }
 ],
 "metadata": {
  "kernelspec": {
   "display_name": "Python 3",
   "language": "python",
   "name": "python3"
  },
  "language_info": {
   "codemirror_mode": {
    "name": "ipython",
    "version": 3
   },
   "file_extension": ".py",
   "mimetype": "text/x-python",
   "name": "python",
   "nbconvert_exporter": "python",
   "pygments_lexer": "ipython3",
   "version": "3.7.6"
  }
 },
 "nbformat": 4,
 "nbformat_minor": 4
}
