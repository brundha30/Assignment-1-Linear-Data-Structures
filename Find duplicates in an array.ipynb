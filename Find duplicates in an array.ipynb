{
 "cells": [
  {
   "cell_type": "code",
   "execution_count": 1,
   "metadata": {},
   "outputs": [
    {
     "name": "stdout",
     "output_type": "stream",
     "text": [
      "Duplicate numbers: [2, 3]\n"
     ]
    }
   ],
   "source": [
    "def find_duplicates(arr):\n",
    "    duplicates = []\n",
    "    num_dict = {}\n",
    "\n",
    "    for num in arr:\n",
    "        if num in num_dict:\n",
    "            duplicates.append(num)\n",
    "        else:\n",
    "            num_dict[num] = 1\n",
    "\n",
    "    return duplicates\n",
    "\n",
    "arr = [1, 2, 3, 2, 4, 5, 3, 6]\n",
    "duplicate_nums = find_duplicates(arr)\n",
    "print(\"Duplicate numbers:\", duplicate_nums)"
   ]
  },
  {
   "cell_type": "code",
   "execution_count": null,
   "metadata": {},
   "outputs": [],
   "source": []
  }
 ],
 "metadata": {
  "kernelspec": {
   "display_name": "Python 3",
   "language": "python",
   "name": "python3"
  },
  "language_info": {
   "codemirror_mode": {
    "name": "ipython",
    "version": 3
   },
   "file_extension": ".py",
   "mimetype": "text/x-python",
   "name": "python",
   "nbconvert_exporter": "python",
   "pygments_lexer": "ipython3",
   "version": "3.7.6"
  }
 },
 "nbformat": 4,
 "nbformat_minor": 4
}
