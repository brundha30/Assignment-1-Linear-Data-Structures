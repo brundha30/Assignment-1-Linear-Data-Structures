{
 "cells": [
  {
   "cell_type": "code",
   "execution_count": 1,
   "metadata": {},
   "outputs": [
    {
     "name": "stdout",
     "output_type": "stream",
     "text": [
      "First Linked List:\n",
      "1 -> 2 -> 3 -> None\n",
      "Second Linked List:\n",
      "4 -> 5 -> 6 -> None\n",
      "Merged Linked List:\n",
      "1 -> 4 -> 2 -> 5 -> 3 -> 6 -> None\n"
     ]
    }
   ],
   "source": [
    "class Node:\n",
    "    def __init__(self, data=None):\n",
    "        self.data = data\n",
    "        self.next = None\n",
    "\n",
    "\n",
    "def merge_alternate(head1, head2):\n",
    "    if not head1:\n",
    "        return head2\n",
    "    if not head2:\n",
    "        return head1\n",
    "\n",
    "    current1 = head1\n",
    "    current2 = head2\n",
    "    while current1 and current2:\n",
    "        next1 = current1.next\n",
    "        next2 = current2.next\n",
    "\n",
    "        current2.next = next1\n",
    "        current1.next = current2\n",
    "\n",
    "        current1 = next1\n",
    "        current2 = next2\n",
    "\n",
    "    return head1\n",
    "\n",
    "\n",
    "def print_linked_list(head):\n",
    "    current = head\n",
    "    while current:\n",
    "        print(current.data, end=\" -> \")\n",
    "        current = current.next\n",
    "    print(\"None\")\n",
    "\n",
    "\n",
    "head1 = Node(1)\n",
    "head1.next = Node(2)\n",
    "head1.next.next = Node(3)\n",
    "\n",
    "head2 = Node(4)\n",
    "head2.next = Node(5)\n",
    "head2.next.next = Node(6)\n",
    "\n",
    "print(\"First Linked List:\")\n",
    "print_linked_list(head1)\n",
    "\n",
    "print(\"Second Linked List:\")\n",
    "print_linked_list(head2)\n",
    "\n",
    "head1 = merge_alternate(head1, head2)\n",
    "\n",
    "print(\"Merged Linked List:\")\n",
    "print_linked_list(head1)\n"
   ]
  },
  {
   "cell_type": "code",
   "execution_count": null,
   "metadata": {},
   "outputs": [],
   "source": []
  }
 ],
 "metadata": {
  "kernelspec": {
   "display_name": "Python 3",
   "language": "python",
   "name": "python3"
  },
  "language_info": {
   "codemirror_mode": {
    "name": "ipython",
    "version": 3
   },
   "file_extension": ".py",
   "mimetype": "text/x-python",
   "name": "python",
   "nbconvert_exporter": "python",
   "pygments_lexer": "ipython3",
   "version": "3.7.6"
  }
 },
 "nbformat": 4,
 "nbformat_minor": 4
}
